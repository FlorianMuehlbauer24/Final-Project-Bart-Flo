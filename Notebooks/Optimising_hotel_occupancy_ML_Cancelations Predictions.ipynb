{
  "cells": [
    {
      "cell_type": "markdown",
      "metadata": {
        "id": "Q7n5Yoo691BD"
      },
      "source": []
    },
    {
      "cell_type": "markdown",
      "metadata": {
        "id": "9_Zkd5P8Bvgw"
      },
      "source": [
        "### Imports"
      ]
    },
    {
      "cell_type": "code",
      "execution_count": null,
      "metadata": {
        "id": "0bf0G5I6WKVg"
      },
      "outputs": [],
      "source": [
        "import pandas as pd\n",
        "from sklearn.preprocessing import StandardScaler\n",
        "import numpy as np\n",
        "from sklearn.linear_model import LogisticRegression\n",
        "from sklearn.metrics import accuracy_score, confusion_matrix, classification_report\n",
        "import matplotlib.pyplot as plt\n",
        "from sklearn.model_selection import train_test_split\n",
        "from sklearn.utils import resample\n",
        "import seaborn as sns\n",
        "from sklearn.neighbors import KNeighborsClassifier\n",
        "from sklearn.tree import DecisionTreeClassifier\n",
        "from sklearn.metrics import accuracy_score, precision_score, recall_score, f1_score, confusion_matrix\n",
        "from sklearn.ensemble import RandomForestClassifier\n",
        "from sklearn.model_selection import GridSearchCV\n",
        "from sklearn.model_selection import cross_val_score\n",
        "from sklearn.cluster import KMeans\n",
        "from sklearn.metrics import silhouette_score\n",
        "from sklearn.decomposition import PCA\n",
        "import joblib\n",
        "import os\n",
        "\n"
      ]
    },
    {
      "cell_type": "code",
      "execution_count": null,
      "metadata": {
        "id": "buxXYHFKNmWe"
      },
      "outputs": [],
      "source": [
        "# Load df\n",
        "df = pd.read_csv('https://raw.githubusercontent.com/FlorianMuehlbauer24/Final-Project-Bart-Flo/main/df_ml.csv')"
      ]
    },
    {
      "cell_type": "markdown",
      "metadata": {
        "id": "cV5IlKzzAvfw"
      },
      "source": [
        "## Split into train and test set"
      ]
    },
    {
      "cell_type": "code",
      "execution_count": null,
      "metadata": {
        "id": "godlsxbE_p6y"
      },
      "outputs": [],
      "source": [
        "X = df.drop(columns = [\"is_canceled\"]) # drop everything but y variable\n",
        "y = df[[\"is_canceled\"]]\n",
        "\n",
        "X_train, X_test, y_train, y_test = train_test_split(X, y, test_size=0.2, random_state=42)"
      ]
    },
    {
      "cell_type": "markdown",
      "metadata": {
        "id": "Em3P8z6KgbIN"
      },
      "source": [
        "### Downsampling"
      ]
    },
    {
      "cell_type": "code",
      "execution_count": null,
      "metadata": {
        "id": "sO32E3-HgafI"
      },
      "outputs": [],
      "source": [
        "# Concatenate the training data\n",
        "train_data = pd.concat([X_train, y_train], axis=1)\n",
        "\n",
        "# Separate classes\n",
        "not_canceled = train_data[train_data[\"is_canceled\"] == 0]\n",
        "canceled = train_data[train_data[\"is_canceled\"] == 1]\n",
        "\n",
        "not_canceled_downsampled = resample(not_canceled, replace=False, n_samples=len(canceled), random_state=42)\n",
        "\n",
        "downsampled_data = pd.concat([not_canceled_downsampled, canceled])\n",
        "\n",
        "# Separate X and y again\n",
        "X_train_downsampled = downsampled_data.drop(columns=[\"is_canceled\"])\n",
        "y_train_downsampled = downsampled_data[\"is_canceled\"]"
      ]
    },
    {
      "cell_type": "markdown",
      "metadata": {
        "id": "cU_3MUd4GH0Q"
      },
      "source": [
        "### Scaling"
      ]
    },
    {
      "cell_type": "code",
      "execution_count": null,
      "metadata": {
        "id": "A6C8oD6IhPFR"
      },
      "outputs": [],
      "source": [
        "# StandardScaler\n",
        "scaler = StandardScaler()\n",
        "X_train_scaled = scaler.fit_transform(X_train_downsampled)\n",
        "X_test_scaled = scaler.transform(X_test)\n",
        "\n"
      ]
    },
    {
      "cell_type": "markdown",
      "metadata": {
        "id": "hTRsbtqg5_J_"
      },
      "source": [
        "### Logistic Regression"
      ]
    },
    {
      "cell_type": "code",
      "execution_count": null,
      "metadata": {
        "id": "_PvzvSy354lt",
        "colab": {
          "base_uri": "https://localhost:8080/"
        },
        "outputId": "88b28194-9f74-45f9-ba2d-aecad4393353"
      },
      "outputs": [
        {
          "output_type": "stream",
          "name": "stdout",
          "text": [
            "Accuracy Score of Logistic Regression is: 0.8107312560447416\n"
          ]
        }
      ],
      "source": [
        "# Apply Logistic Regression\n",
        "logr = LogisticRegression(max_iter=1000) # max_iter defines the maximum of iterations\n",
        "logr.fit(X_train_scaled, y_train_downsampled)\n",
        "\n",
        "# Prediction on the scaled test set\n",
        "y_pred_logr = logr.predict(X_test_scaled)\n",
        "\n",
        "# Evaluation of the model\n",
        "acc_lr = accuracy_score(y_test, y_pred_logr)\n",
        "print(f\"Accuracy Score of Logistic Regression is: {acc_lr}\")"
      ]
    },
    {
      "cell_type": "code",
      "execution_count": null,
      "metadata": {
        "colab": {
          "base_uri": "https://localhost:8080/"
        },
        "id": "qR5S3pR0hPQJ",
        "outputId": "a4000e5d-ca8f-4877-ea64-2def030a7d6f"
      },
      "outputs": [
        {
          "output_type": "stream",
          "name": "stdout",
          "text": [
            "Accuracy: 0.8107312560447416\n",
            "Precision: 0.7322785468928906\n",
            "Recall: 0.784805890227577\n"
          ]
        }
      ],
      "source": [
        "# Calculate accuracy, precision, recall\n",
        "accuracy = accuracy_score(y_test, y_pred_logr)\n",
        "precision = precision_score(y_test, y_pred_logr)\n",
        "recall = recall_score(y_test, y_pred_logr)\n",
        "\n",
        "print(\"Accuracy:\", accuracy)\n",
        "print(\"Precision:\", precision)\n",
        "print(\"Recall:\", recall)"
      ]
    },
    {
      "cell_type": "code",
      "source": [
        "# Confusion matrix\n",
        "cm = confusion_matrix(y_test, y_pred_logr)\n",
        "\n",
        "plt.figure(figsize=(8, 6))\n",
        "sns.heatmap(cm, annot=True, fmt='d', cmap='Blues', cbar=False, square=True,\n",
        "            xticklabels=['Predicted 0', 'Predicted 1'],\n",
        "            yticklabels=['Actual 0', 'Actual 1'])\n",
        "plt.xlabel('Predicted label')\n",
        "plt.ylabel('True label')\n",
        "plt.title('Confusion Matrix')\n",
        "\n",
        "plt.show()"
      ],
      "metadata": {
        "colab": {
          "base_uri": "https://localhost:8080/",
          "height": 564
        },
        "id": "KOtDLIcU6lVv",
        "outputId": "5906d501-904c-4587-fde4-48d323f2f9ec"
      },
      "execution_count": null,
      "outputs": [
        {
          "output_type": "display_data",
          "data": {
            "text/plain": [
              "<Figure size 800x600 with 1 Axes>"
            ],
            "image/png": "[encoded data removed]"
          },
          "metadata": {}
        }
      ]
    },
    {
      "cell_type": "markdown",
      "metadata": {
        "id": "MCQE7d2jJBNK"
      },
      "source": [
        "## KNN"
      ]
    },
    {
      "cell_type": "code",
      "execution_count": null,
      "metadata": {
        "id": "rqNo5zLlJ3Lk"
      },
      "outputs": [],
      "source": [
        "knn = KNeighborsClassifier(n_neighbors=5)\n",
        "knn.fit(X_train_scaled, y_train_downsampled)\n",
        "y_pred_knn = knn.predict(X_test_scaled)\n",
        "\n",
        "# Calculate accuracy, precision, recall\n",
        "acc_knn = accuracy_score(y_test, y_pred_knn)\n",
        "precision_knn = precision_score(y_test, y_pred_knn)\n",
        "recall_knn = recall_score(y_test, y_pred_knn)"
      ]
    },
    {
      "cell_type": "code",
      "execution_count": null,
      "metadata": {
        "id": "cO8uHOnHNclx",
        "colab": {
          "base_uri": "https://localhost:8080/"
        },
        "outputId": "013086f6-a716-4bc8-9a8f-b70179795f7d"
      },
      "outputs": [
        {
          "output_type": "stream",
          "name": "stdout",
          "text": [
            "Accuracy Score of KNN is: 0.8263739960472646\n",
            "Precision: 0.7353256108244914\n",
            "Recall: 0.8427041499330656\n"
          ]
        }
      ],
      "source": [
        "print(\"Accuracy Score of KNN is:\", acc_knn)\n",
        "print(\"Precision:\", precision_knn)\n",
        "print(\"Recall:\", recall_knn)"
      ]
    },
    {
      "cell_type": "code",
      "source": [
        "# Confusion matrix\n",
        "conf_matrix_knn = confusion_matrix(y_test, y_pred_knn)\n",
        "\n",
        "plt.figure(figsize=(8, 6))\n",
        "sns.heatmap(conf_matrix_knn, annot=True, fmt='d', cmap='Blues', cbar=False, square=True,\n",
        "            xticklabels=['Predicted 0', 'Predicted 1'],\n",
        "            yticklabels=['Actual 0', 'Actual 1'])\n",
        "plt.xlabel('Predicted label')\n",
        "plt.ylabel('True label')\n",
        "plt.title('Confusion Matrix - KNN')\n",
        "\n",
        "plt.show()"
      ],
      "metadata": {
        "id": "LLjFmm5u7IJi"
      },
      "execution_count": null,
      "outputs": []
    },
    {
      "cell_type": "code",
      "execution_count": null,
      "metadata": {
        "id": "LdT6_XzbUEiy"
      },
      "outputs": [],
      "source": [
        "# grid search -> determines numer of neighbors\n",
        "knn_clf = KNeighborsClassifier()\n",
        "\n",
        "param_grid = {\"n_neighbors\" : [3,5,6,8,10,15]}"
      ]
    },
    {
      "cell_type": "code",
      "execution_count": null,
      "metadata": {
        "id": "K8N7GUfEUdr7"
      },
      "outputs": [],
      "source": [
        "## grid_search = GridSearchCV(knn_clf, param_grid, cv=5,return_train_score=True,n_jobs=-1,)\n",
        "# Takes around 30 minutes to calculate"
      ]
    },
    {
      "cell_type": "code",
      "execution_count": null,
      "metadata": {
        "id": "o8H7NeANUqus"
      },
      "outputs": [],
      "source": [
        "## grid_search.fit(X_train_scaled,y_train_downsampled)"
      ]
    },
    {
      "cell_type": "code",
      "execution_count": null,
      "metadata": {
        "id": "UXc-0aMwWhvj"
      },
      "outputs": [],
      "source": [
        "best_params = grid_search.best_params_ #To check the best set of parameters returned\n",
        "best_params"
      ]
    },
    {
      "cell_type": "code",
      "source": [
        "# Optimal number of Neighbors : 5"
      ],
      "metadata": {
        "id": "odAIXT_jAG5x"
      },
      "execution_count": null,
      "outputs": []
    },
    {
      "cell_type": "markdown",
      "metadata": {
        "id": "VCWxW1H8K1gZ"
      },
      "source": [
        "### Decision Tree"
      ]
    },
    {
      "cell_type": "code",
      "source": [
        "decision_tree = DecisionTreeClassifier(random_state=42)\n",
        "decision_tree.fit(X_train_scaled, y_train_downsampled)\n",
        "\n",
        "y_pred_decision_tree = decision_tree.predict(X_test_scaled)"
      ],
      "metadata": {
        "id": "LESSf9-g1ZAj"
      },
      "execution_count": null,
      "outputs": []
    },
    {
      "cell_type": "code",
      "execution_count": null,
      "metadata": {
        "colab": {
          "base_uri": "https://localhost:8080/"
        },
        "id": "BJBoMhhAIltc",
        "outputId": "adbc60b9-6b51-4602-d182-23fa45609111"
      },
      "outputs": [
        {
          "output_type": "stream",
          "name": "stdout",
          "text": [
            "Accuracy Score of Decision Tree is: 0.848955048147681\n",
            "Precision: 0.7706024581906106\n",
            "Recall: 0.8533020972780009\n"
          ]
        }
      ],
      "source": [
        "# Calculate accuracy, precision, recall\n",
        "acc_decision_tree = accuracy_score(y_test, y_pred_decision_tree)\n",
        "precision_decision_tree = precision_score(y_test, y_pred_decision_tree)\n",
        "recall_decision_tree = recall_score(y_test, y_pred_decision_tree)\n",
        "\n",
        "# Evaluation metrics\n",
        "print(\"Accuracy Score of Decision Tree is:\", acc_decision_tree)\n",
        "print(\"Precision:\", precision_decision_tree)\n",
        "print(\"Recall:\", recall_decision_tree)"
      ]
    },
    {
      "cell_type": "code",
      "source": [
        "# Confusion Matrix\n",
        "conf_matrix_decision_tree = confusion_matrix(y_test, y_pred_decision_tree)\n",
        "\n",
        "plt.figure(figsize=(8, 6))\n",
        "sns.heatmap(conf_matrix_decision_tree, annot=True, fmt='d', cmap='Blues', cbar=False, square=True,\n",
        "            xticklabels=['Predicted 0', 'Predicted 1'],\n",
        "            yticklabels=['Actual 0', 'Actual 1'])\n",
        "plt.xlabel('Predicted label')\n",
        "plt.ylabel('True label')\n",
        "plt.title('Confusion Matrix - Decision Tree')\n",
        "\n",
        "plt.show()"
      ],
      "metadata": {
        "colab": {
          "base_uri": "https://localhost:8080/",
          "height": 564
        },
        "id": "GfViI1IV70d8",
        "outputId": "d9dfa0d3-bc8f-4008-df41-6c30096ff4db"
      },
      "execution_count": null,
      "outputs": [
        {
          "output_type": "display_data",
          "data": {
            "text/plain": [
              "<Figure size 800x600 with 1 Axes>"
            ],
            "image/png": "[encoded data removed]"
          },
          "metadata": {}
        }
      ]
    },
    {
      "cell_type": "markdown",
      "metadata": {
        "id": "sS5MT5ZEMEIP"
      },
      "source": [
        "### Random Forest"
      ]
    },
    {
      "cell_type": "code",
      "source": [
        "random_forest = RandomForestClassifier(n_estimators=100, random_state=42)\n",
        "random_forest.fit(X_train_scaled, y_train_downsampled)\n",
        "\n",
        "y_pred_random_forest = random_forest.predict(X_test_scaled)"
      ],
      "metadata": {
        "id": "NTzl8e751wol"
      },
      "execution_count": null,
      "outputs": []
    },
    {
      "cell_type": "code",
      "execution_count": null,
      "metadata": {
        "colab": {
          "base_uri": "https://localhost:8080/"
        },
        "id": "cDBJGcmqMIlI",
        "outputId": "9ccabebf-ba28-415f-ff1f-140fe551b147"
      },
      "outputs": [
        {
          "output_type": "stream",
          "name": "stdout",
          "text": [
            "Accuracy Score of Random Forest is: 0.8943274042302679\n",
            "Precision: 0.8513999346334024\n",
            "Recall: 0.8718206157965194\n"
          ]
        }
      ],
      "source": [
        "# Calculate accuracy, precision, recall\n",
        "acc_random_forest = accuracy_score(y_test, y_pred_random_forest)\n",
        "precision_random_forest = precision_score(y_test, y_pred_random_forest)\n",
        "recall_random_forest = recall_score(y_test, y_pred_random_forest)\n",
        "\n",
        "print(\"Accuracy Score of Random Forest is:\", acc_random_forest)\n",
        "print(\"Precision:\", precision_random_forest)\n",
        "print(\"Recall:\", recall_random_forest)"
      ]
    },
    {
      "cell_type": "code",
      "execution_count": null,
      "metadata": {
        "id": "jFrmO-Y6MYxU",
        "colab": {
          "base_uri": "https://localhost:8080/",
          "height": 564
        },
        "outputId": "4b3254d7-20b0-474d-d307-51b38219aa0f"
      },
      "outputs": [
        {
          "output_type": "display_data",
          "data": {
            "text/plain": [
              "<Figure size 800x600 with 1 Axes>"
            ],
            "image/png": "[encoded data removed]"
          },
          "metadata": {}
        }
      ],
      "source": [
        "conf_matrix_random_forest = confusion_matrix(y_test, y_pred_random_forest)\n",
        "\n",
        "plt.figure(figsize=(8, 6))\n",
        "sns.heatmap(conf_matrix_random_forest, annot=True, fmt='d', cmap='Blues', cbar=False, square=True,\n",
        "            xticklabels=['Predicted 0', 'Predicted 1'],\n",
        "            yticklabels=['Actual 0', 'Actual 1'])\n",
        "plt.xlabel('Predicted label')\n",
        "plt.ylabel('True label')\n",
        "plt.title('Confusion Matrix - Random Forest')\n",
        "\n",
        "plt.show()"
      ]
    },
    {
      "cell_type": "markdown",
      "metadata": {
        "id": "wN6Uqq6hPPR9"
      },
      "source": [
        "### Cross Validation"
      ]
    },
    {
      "cell_type": "markdown",
      "source": [
        "Recall: Out of all the actual positive instances in the dataset, how many did the model correctly identify?"
      ],
      "metadata": {
        "id": "yne4yzfsHoGF"
      }
    },
    {
      "cell_type": "code",
      "execution_count": null,
      "metadata": {
        "colab": {
          "base_uri": "https://localhost:8080/"
        },
        "id": "jrWMTj_HPT0Y",
        "outputId": "a3b700e3-d9d9-4c4c-b863-ad6e8c04f82a"
      },
      "outputs": [
        {
          "output_type": "stream",
          "name": "stdout",
          "text": [
            "Cross-Validation Recall for Logistic Regression: 0.7822595939814382\n"
          ]
        }
      ],
      "source": [
        "#Logistic Regression\n",
        "cross_val_lr = cross_val_score(logr, X_train_scaled, y_train_downsampled, cv=5, scoring='recall')\n",
        "print(f\"Cross-Validation Recall for Logistic Regression: {np.mean(cross_val_lr)}\")"
      ]
    },
    {
      "cell_type": "code",
      "execution_count": null,
      "metadata": {
        "colab": {
          "base_uri": "https://localhost:8080/"
        },
        "id": "icxhiluaE8B8",
        "outputId": "745458ce-72f8-4d57-c5af-a4caf9e41d41"
      },
      "outputs": [
        {
          "output_type": "stream",
          "name": "stdout",
          "text": [
            "Cross-Validation recall for KNN: 0.8387937247470557\n"
          ]
        }
      ],
      "source": [
        "#KNN\n",
        "cross_val_knn = cross_val_score(knn, X_train_scaled, y_train_downsampled, cv=5, scoring='recall')\n",
        "print(f\"Cross-Validation recall for KNN: {np.mean(cross_val_knn)}\")"
      ]
    },
    {
      "cell_type": "code",
      "execution_count": null,
      "metadata": {
        "colab": {
          "base_uri": "https://localhost:8080/"
        },
        "id": "ZBbSCiPzIo6w",
        "outputId": "5b6c6664-19dc-4378-dd08-42ccb0a36dfe"
      },
      "outputs": [
        {
          "output_type": "stream",
          "name": "stdout",
          "text": [
            "Cross-Validation Recall for Decision Tree: 0.8475591591555345\n"
          ]
        }
      ],
      "source": [
        "# Decision Trees\n",
        "cross_val_dt = cross_val_score(decision_tree, X_train_scaled, y_train_downsampled, cv=5, scoring='recall')\n",
        "print(f\"Cross-Validation Recall for Decision Tree: {np.mean(cross_val_dt)}\")"
      ]
    },
    {
      "cell_type": "code",
      "execution_count": null,
      "metadata": {
        "colab": {
          "base_uri": "https://localhost:8080/"
        },
        "id": "1PsiUNPNHqKi",
        "outputId": "ee3c44e7-17fb-4e44-e836-bbb18cbe1e64"
      },
      "outputs": [
        {
          "output_type": "stream",
          "name": "stdout",
          "text": [
            "Cross-Validation Recall for Random Forest: 0.8682947602623642\n"
          ]
        }
      ],
      "source": [
        "# Random Forest\n",
        "cross_val_rf = cross_val_score(random_forest, X_train_scaled, y_train_downsampled, cv=5, scoring='recall')\n",
        "print(f\"Cross-Validation Recall for Random Forest: {np.mean(cross_val_rf)}\")"
      ]
    },
    {
      "cell_type": "code",
      "execution_count": null,
      "metadata": {
        "id": "8Od1VAIPJA4P"
      },
      "outputs": [],
      "source": [
        "# All 4 models in direct comparison\n",
        "\n",
        "model1 = LogisticRegression(max_iter=1000, random_state=42)\n",
        "model2 = KNeighborsClassifier()\n",
        "model3 = DecisionTreeClassifier(random_state=42)\n",
        "model4 = RandomForestClassifier(n_estimators=100, random_state=42)\n",
        "\n",
        "model_pipeline = [model1, model2, model3, model4]\n",
        "model_names = ['Logistic Regression', 'KNN', 'Decision Tree', 'Random Forest']\n",
        "\n",
        "scores = {}\n",
        "\n",
        "# Loop through models\n",
        "for model, name in zip(model_pipeline, model_names):\n",
        "    # Recall\n",
        "    recall_scores = cross_val_score(model, X_train_scaled, y_train_downsampled, cv=5, scoring='recall')\n",
        "    mean_recall = np.mean(recall_scores)\n",
        "\n",
        "    # Accuracy\n",
        "    accuracy_scores = cross_val_score(model, X_train_scaled, y_train_downsampled, cv=5, scoring='accuracy')\n",
        "    mean_accuracy = np.mean(accuracy_scores)\n",
        "\n",
        "    # Precision\n",
        "    precision_scores = cross_val_score(model, X_train_scaled, y_train_downsampled, cv=5, scoring='precision')\n",
        "    mean_precision = np.mean(precision_scores)\n",
        "\n",
        "    scores[name] = {'Recall': mean_recall, 'Accuracy': mean_accuracy, 'Precision': mean_precision}\n",
        "\n",
        "\n",
        "print(\"Model Scores:\")\n",
        "for model_name, score_dict in scores.items():\n",
        "    print(f\"{model_name}:\")\n",
        "    print(f\"  Recall:    {score_dict['Recall']:.4f}\")\n",
        "    print(f\"  Accuracy:  {score_dict['Accuracy']:.4f}\")\n",
        "    print(f\"  Precision: {score_dict['Precision']:.4f}\")\n",
        "    print()\n"
      ]
    },
    {
      "cell_type": "markdown",
      "metadata": {
        "id": "vXn3bXnEpJbX"
      },
      "source": [
        "Model Scores:\n",
        "Logistic Regression:\n",
        "  Recall:    0.7823\n",
        "  Accuracy:  0.8034\n",
        "  Precision: 0.8168\n",
        "\n",
        "KNN:\n",
        "  Recall:    0.8388\n",
        "  Accuracy:  0.8232\n",
        "  Precision: 0.8135\n",
        "\n",
        "Decision Tree:\n",
        "  Recall:    0.8476\n",
        "  Accuracy:  0.8414\n",
        "  Precision: 0.8373\n",
        "\n",
        "Random Forest:\n",
        "  Recall:    0.8683\n",
        "  Accuracy:  0.8857\n",
        "  Precision: 0.8996"
      ]
    },
    {
      "cell_type": "code",
      "execution_count": null,
      "metadata": {
        "id": "sdH_g-UYpBP2"
      },
      "outputs": [],
      "source": []
    },
    {
      "cell_type": "markdown",
      "metadata": {
        "id": "VcLPnKezYQuT"
      },
      "source": [
        "### Optimize Random Forest (Best Recall, Precision and Accuarcy Score)"
      ]
    },
    {
      "cell_type": "code",
      "execution_count": null,
      "metadata": {
        "id": "H8aN9ju3KGrj",
        "colab": {
          "base_uri": "https://localhost:8080/"
        },
        "outputId": "6dbf6578-73fa-4008-df28-dc51a24f38a6"
      },
      "outputs": [
        {
          "output_type": "error",
          "ename": "NameError",
          "evalue": "name 'X_train_scaled' is not defined",
          "traceback": [
            "\u001b[0;31m---------------------------------------------------------------------------\u001b[0m",
            "\u001b[0;31mNameError\u001b[0m                                 Traceback (most recent call last)",
            "\u001b[0;32m<ipython-input-2-72d088ac34bf>\u001b[0m in \u001b[0;36m<cell line: 7>\u001b[0;34m()\u001b[0m\n\u001b[1;32m      7\u001b[0m \u001b[0;32mfor\u001b[0m \u001b[0mn_estimators\u001b[0m \u001b[0;32min\u001b[0m \u001b[0mn_estimators_values\u001b[0m\u001b[0;34m:\u001b[0m\u001b[0;34m\u001b[0m\u001b[0;34m\u001b[0m\u001b[0m\n\u001b[1;32m      8\u001b[0m     \u001b[0mrf_model\u001b[0m \u001b[0;34m=\u001b[0m \u001b[0mRandomForestClassifier\u001b[0m\u001b[0;34m(\u001b[0m\u001b[0mn_estimators\u001b[0m\u001b[0;34m=\u001b[0m\u001b[0mn_estimators\u001b[0m\u001b[0;34m,\u001b[0m \u001b[0mrandom_state\u001b[0m\u001b[0;34m=\u001b[0m\u001b[0;36m42\u001b[0m\u001b[0;34m)\u001b[0m\u001b[0;34m\u001b[0m\u001b[0;34m\u001b[0m\u001b[0m\n\u001b[0;32m----> 9\u001b[0;31m     \u001b[0mscores\u001b[0m \u001b[0;34m=\u001b[0m \u001b[0mcross_val_score\u001b[0m\u001b[0;34m(\u001b[0m\u001b[0mrf_model\u001b[0m\u001b[0;34m,\u001b[0m \u001b[0mX_train_scaled\u001b[0m\u001b[0;34m,\u001b[0m \u001b[0my_train_downsampled\u001b[0m\u001b[0;34m,\u001b[0m \u001b[0mcv\u001b[0m\u001b[0;34m=\u001b[0m\u001b[0;36m5\u001b[0m\u001b[0;34m)\u001b[0m  \u001b[0;31m# 5-fold cross-validation\u001b[0m\u001b[0;34m\u001b[0m\u001b[0;34m\u001b[0m\u001b[0m\n\u001b[0m\u001b[1;32m     10\u001b[0m     \u001b[0mcv_scores\u001b[0m\u001b[0;34m[\u001b[0m\u001b[0mn_estimators\u001b[0m\u001b[0;34m]\u001b[0m \u001b[0;34m=\u001b[0m \u001b[0mnp\u001b[0m\u001b[0;34m.\u001b[0m\u001b[0mmean\u001b[0m\u001b[0;34m(\u001b[0m\u001b[0mscores\u001b[0m\u001b[0;34m)\u001b[0m\u001b[0;34m\u001b[0m\u001b[0;34m\u001b[0m\u001b[0m\n\u001b[1;32m     11\u001b[0m \u001b[0;34m\u001b[0m\u001b[0m\n",
            "\u001b[0;31mNameError\u001b[0m: name 'X_train_scaled' is not defined"
          ]
        }
      ],
      "source": [
        "# Number of trees\n",
        "n_estimators_values = [185,190,195]\n",
        "\n",
        "cv_scores = {}\n",
        "\n",
        "# Loop through each value of n_estimators and perform cross-validation\n",
        "for n_estimators in n_estimators_values:\n",
        "    rf_model = RandomForestClassifier(n_estimators=n_estimators, random_state=42)\n",
        "    scores = cross_val_score(rf_model, X_train_scaled, y_train_downsampled, cv=5)  # 5-fold cross-validation\n",
        "    cv_scores[n_estimators] = np.mean(scores)\n",
        "\n",
        "# Find the value of n_estimators with the highest cross-validation score\n",
        "best_n_estimators = max(cv_scores, key=cv_scores.get)\n",
        "\n",
        "print(\"Cross-validation scores:\")\n",
        "for n_estimators, score in cv_scores.items():\n",
        "    print(f\"n_estimators = {n_estimators}: Mean Accuracy = {score:.4f}\")\n",
        "\n",
        "print(\"\\nBest number of trees:\", best_n_estimators)"
      ]
    },
    {
      "cell_type": "code",
      "execution_count": null,
      "metadata": {
        "id": "5bOw36eHkljn"
      },
      "outputs": [],
      "source": [
        "# max depth\n",
        "\n",
        "max_depth_values = [27,28,29]\n",
        "\n",
        "# Dictionary to store cross-validation scores for each max_depth value\n",
        "cv_scores = {}\n",
        "\n",
        "# Loop through each value of max_depth and perform cross-validation\n",
        "for max_depth in max_depth_values:\n",
        "    rf_model = RandomForestClassifier(max_depth=max_depth, random_state=42)\n",
        "    scores = cross_val_score(rf_model, X_train_scaled, y_train_downsampled, cv=5)  # 5-fold cross-validation\n",
        "    cv_scores[max_depth] = np.mean(scores)\n",
        "\n",
        "# Find the value of max_depth with the highest cross-validation score\n",
        "best_max_depth = max(cv_scores, key=cv_scores.get)\n",
        "\n",
        "print(\"Cross-validation scores:\")\n",
        "for max_depth, score in cv_scores.items():\n",
        "    print(f\"max_depth = {max_depth}: Mean Accuracy = {score:.4f}\")\n",
        "\n",
        "print(\"\\nBest tree depth:\", best_max_depth)\n"
      ]
    },
    {
      "cell_type": "code",
      "source": [
        "# max depth: 28"
      ],
      "metadata": {
        "id": "_OrYh2ZJE13Q"
      },
      "execution_count": null,
      "outputs": []
    },
    {
      "cell_type": "markdown",
      "source": [
        "# Random forest"
      ],
      "metadata": {
        "id": "-OtAksKXJ39j"
      }
    },
    {
      "cell_type": "code",
      "source": [
        "# Optimized random forest model\n",
        "best_n_estimators = 190\n",
        "\n",
        "# Train the Random Forest model\n",
        "optimized_random_forest = RandomForestClassifier(n_estimators=best_n_estimators, random_state=42)\n",
        "optimized_random_forest.fit(X_train_scaled, y_train_downsampled)\n",
        "\n",
        "# Make predictions\n",
        "y_pred_random_forest_optimized = optimized_random_forest.predict(X_test_scaled)\n"
      ],
      "metadata": {
        "id": "l4wwHVDVZ_zD"
      },
      "execution_count": null,
      "outputs": []
    },
    {
      "cell_type": "code",
      "source": [
        "# Accuracy Score, Precision and Recall for optimized Random Forest\n",
        "acc_random_forest_optimized = accuracy_score(y_test, y_pred_random_forest_optimized)\n",
        "precision_random_forest_optimized = precision_score(y_test, y_pred_random_forest_optimized)\n",
        "recall_random_forest_optimized = recall_score(y_test, y_pred_random_forest_optimized)\n",
        "\n",
        "print(\"Accuracy Score of Optimized Random Forest is:\", acc_random_forest_optimized)\n",
        "print(\"Precision:\", precision_random_forest_optimized)\n",
        "print(\"Recall:\", recall_random_forest_optimized)"
      ],
      "metadata": {
        "colab": {
          "base_uri": "https://localhost:8080/"
        },
        "id": "bg_Pb2M2biRY",
        "outputId": "d0d31e48-f9a1-419d-f07f-29264d90a6cb"
      },
      "execution_count": null,
      "outputs": [
        {
          "output_type": "stream",
          "name": "stdout",
          "text": [
            "Accuracy Score of Optimized Random Forest is: 0.8957991674025483\n",
            "Precision: 0.8519644019969611\n",
            "Recall: 0.8757251227130746\n"
          ]
        }
      ]
    },
    {
      "cell_type": "code",
      "source": [
        "\n",
        "conf_matrix_random_forest_optimized = confusion_matrix(y_test, y_pred_random_forest_optimized)\n",
        "\n",
        "plt.figure(figsize=(8, 6))\n",
        "sns.heatmap(conf_matrix_random_forest_optimized, annot=True, fmt='d', cmap='Blues', cbar=False, square=True,\n",
        "            xticklabels=['Predicted 0', 'Predicted 1'],\n",
        "            yticklabels=['Actual 0', 'Actual 1'])\n",
        "plt.xlabel('Predicted label')\n",
        "plt.ylabel('True label')\n",
        "plt.title('Confusion Matrix - Optimized Random Forest')\n",
        "plt.show()\n"
      ],
      "metadata": {
        "id": "JyBKTy3JdlZE"
      },
      "execution_count": null,
      "outputs": []
    },
    {
      "cell_type": "code",
      "source": [
        "# Prediction for sample\n",
        "sample_file_path = url = input(\"Please enter the URL of the CSV file: \")\n",
        "sample_df = pd.read_csv(sample_file_path)\n",
        "y_pred = optimized_random_forest.predict(sample_df)\n",
        "\n",
        "# Display the predictions\n",
        "print(\"Predictions:\")\n",
        "print(y_pred)\n",
        "\n",
        "# load ML dataset for KMEANS prediction\n",
        "df_kmeans = pd.read_csv('https://raw.githubusercontent.com/FlorianMuehlbauer24/Final-Project-Bart-Flo/main/df_numerical_ml.csv')\n",
        "# Scale\n",
        "scaler = StandardScaler()\n",
        "scaler.fit(df_kmeans)\n",
        "df_scaled = scaler.transform(df_kmeans)\n",
        "kmeans = KMeans(n_clusters=3, random_state=1234)\n",
        "kmeans.fit(df_scaled)\n",
        "clusters = kmeans.predict(df_scaled)\n",
        "pd.Series(clusters).value_counts().sort_index()\n",
        "\n",
        "\n",
        "columns_to_keep = [\n",
        "    'lead_time',\n",
        "    'adults',\n",
        "    'children',\n",
        "    'average_daily_rate',\n",
        "    'total_of_special_requests',\n",
        "    'stays_in_weekend_nights',\n",
        "    'stays_in_week_nights',\n",
        "    'previous_cancellations',\n",
        "    'previous_bookings_not_canceled',\n",
        "    'booking_changes',\n",
        "    'days_in_waiting_list',\n",
        "    'required_car_parking_spaces'\n",
        "]\n",
        "sample_df_kmeans = sample_df[columns_to_keep]\n",
        "\n",
        "# Scale the sample data using the loaded scaler\n",
        "sample_scaled = scaler.transform(sample_df_kmeans)\n",
        "\n",
        "# Predict clusters for the sample using K-Means\n",
        "sample_cluster = kmeans.predict(sample_df_kmeans)\n",
        "\n",
        "# Display the assigned cluster for the sample\n",
        "print(\"Assigned Cluster:\")\n",
        "print(sample_cluster)"
      ],
      "metadata": {
        "id": "IA7cajWy17gu",
        "colab": {
          "base_uri": "https://localhost:8080/"
        },
        "outputId": "009f10b6-a56e-40c5-ae88-5b79da0222f1"
      },
      "execution_count": null,
      "outputs": [
        {
          "name": "stdout",
          "output_type": "stream",
          "text": [
            "Please enter the URL of the CSV file: https://raw.githubusercontent.com/FlorianMuehlbauer24/Final-Project-Bart-Flo/main/df_ml_sample.csv\n"
          ]
        },
        {
          "output_type": "stream",
          "name": "stderr",
          "text": [
            "/usr/local/lib/python3.10/dist-packages/sklearn/base.py:432: UserWarning: X has feature names, but RandomForestClassifier was fitted without feature names\n",
            "  warnings.warn(\n"
          ]
        },
        {
          "output_type": "stream",
          "name": "stdout",
          "text": [
            "Predictions:\n",
            "[1]\n"
          ]
        },
        {
          "output_type": "stream",
          "name": "stderr",
          "text": [
            "/usr/local/lib/python3.10/dist-packages/sklearn/cluster/_kmeans.py:870: FutureWarning: The default value of `n_init` will change from 10 to 'auto' in 1.4. Set the value of `n_init` explicitly to suppress the warning\n",
            "  warnings.warn(\n"
          ]
        },
        {
          "output_type": "stream",
          "name": "stdout",
          "text": [
            "Assigned Cluster:\n",
            "[2]\n"
          ]
        },
        {
          "output_type": "stream",
          "name": "stderr",
          "text": [
            "/usr/local/lib/python3.10/dist-packages/sklearn/base.py:432: UserWarning: X has feature names, but KMeans was fitted without feature names\n",
            "  warnings.warn(\n"
          ]
        }
      ]
    },
    {
      "cell_type": "code",
      "source": [],
      "metadata": {
        "id": "KntMpofXJZW9"
      },
      "execution_count": null,
      "outputs": []
    }
  ],
  "metadata": {
    "colab": {
      "provenance": [],
      "collapsed_sections": [
        "VcLPnKezYQuT"
      ]
    },
    "kernelspec": {
      "display_name": "Python 3",
      "name": "python3"
    },
    "language_info": {
      "name": "python"
    }
  },
  "nbformat": 4,
  "nbformat_minor": 0
}